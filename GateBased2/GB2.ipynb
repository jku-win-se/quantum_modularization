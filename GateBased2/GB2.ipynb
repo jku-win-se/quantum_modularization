{
 "cells": [
  {
   "cell_type": "code",
   "execution_count": 1,
   "metadata": {},
   "outputs": [],
   "source": [
    "from qiskit import IBMQ"
   ]
  },
  {
   "cell_type": "code",
   "execution_count": null,
   "metadata": {},
   "outputs": [],
   "source": [
    "IBMQ.enable_account(token=...)"
   ]
  },
  {
   "cell_type": "code",
   "execution_count": null,
   "metadata": {},
   "outputs": [],
   "source": [
    "import numpy as np\n",
    "import networkx as nx\n",
    "from operator import itemgetter\n",
    "import import_ipynb\n",
    "import QLS_for_GB2 as qls"
   ]
  },
  {
   "cell_type": "code",
   "execution_count": 4,
   "metadata": {},
   "outputs": [],
   "source": [
    "def compute_mod(G,k): #returns modularity for given consideration of node attributes\n",
    "    #--> alternative approaches to yield maximum modularity: brute force search in space\n",
    "    #of power set with detected communities (by recursive_QLS) as its elements\n",
    "    for i in G.nodes:\n",
    "        sum=0\n",
    "        for j in range(0,k):\n",
    "            sum=sum+pow(2,j)*G.nodes[i][\"Spin{}\".format(j)] #binary encoding of community by node attributes\n",
    "        G.nodes[i][\"colour\"]=sum\n",
    "    \n",
    "    groups = set(nx.get_node_attributes(G,'colour').values())\n",
    "    communities=list()\n",
    "    \n",
    "    for l in groups: #create propper community form for nx-function\n",
    "        group=set()\n",
    "        for i in G.nodes:\n",
    "            if G.nodes[i][\"colour\"]==l:\n",
    "                group.add(i)\n",
    "        communities.append(group)\n",
    "    \n",
    "    result=nx.algorithms.community.quality.modularity(G, communities)\n",
    "    return result, communities"
   ]
  },
  {
   "cell_type": "code",
   "execution_count": 5,
   "metadata": {},
   "outputs": [],
   "source": [
    "def recursive_QLS(G,k, iter=0):\n",
    "    if len(G)==0:\n",
    "        return 0 #stopping criteria if there are no further nodes\n",
    "    lis=list(G.nodes())\n",
    "    n=len(lis)\n",
    "    subgraph2graph=dict((x,lis[x]) for x in range (n))\n",
    "    graph2subgraph=dict((lis[x],x) for x in range (n))\n",
    "    \n",
    "    result=qls.QLS(G, method='QAOA', backend='melbourne') #call QLS for partition into two communities\n",
    "    solution=result[2]\n",
    "    iter_time=(result[0])\n",
    "    global total_time\n",
    "    total_time+=iter_time\n",
    "    \n",
    "    if -1 in solution:\n",
    "        solution = [0 if x == -1 else 1 if x == 1 else 'Error' for x in solution]\n",
    "        \n",
    "    \n",
    "    for i,j in zip(G.nodes, range(0,len(G))): #add node attributes according to QLS solution\n",
    "        G.nodes[i][\"Spin{}\".format(iter)]=solution[j]\n",
    "        \n",
    "    #create subgraphs for further recursions    \n",
    "    subnodes1 = (node\n",
    "                    for node, data\n",
    "                    in G.nodes(data=True)\n",
    "                    if data.get(\"Spin{}\".format(iter)) == 1)\n",
    "        \n",
    "    subnodes2 = (node\n",
    "                    for node, data\n",
    "                    in G.nodes(data=True)\n",
    "                    if data.get(\"Spin{}\".format(iter)) == 0)\n",
    "        \n",
    "    G1 = G.subgraph(subnodes1)\n",
    "    G2 = G.subgraph(subnodes2)\n",
    "    \n",
    "    \n",
    "    iter+=1\n",
    "    if iter>=k:\n",
    "        return 0\n",
    "    \n",
    "    recursive_QLS(G1,k,iter)\n",
    "    recursive_QLS(G2,k,iter)"
   ]
  },
  {
   "cell_type": "code",
   "execution_count": null,
   "metadata": {},
   "outputs": [],
   "source": [
    "def GB2(G): #overall function specifically for Zachary Karate Club Graph (generalization stated in code/paper)\n",
    "    k=3 #for this special case: Zachary Karate Club has 34 nodes\n",
    "    #--> number of communities c=int(sqrt(34))+1, --> k=int(log2(c))+1=3\n",
    "    \n",
    "    total_time=0\n",
    "    \n",
    "    recursive_QLS(G,k)\n",
    "    mod=compute_mod(G,2) #found to be highest modularity when considering 4 communities\n",
    "    \n",
    "    return (mod[0],total_time)"
   ]
  }
 ],
 "metadata": {
  "kernelspec": {
   "display_name": "Python 3",
   "language": "python",
   "name": "python3"
  },
  "language_info": {
   "codemirror_mode": {
    "name": "ipython",
    "version": 3
   },
   "file_extension": ".py",
   "mimetype": "text/x-python",
   "name": "python",
   "nbconvert_exporter": "python",
   "pygments_lexer": "ipython3",
   "version": "3.8.5"
  }
 },
 "nbformat": 4,
 "nbformat_minor": 4
}
