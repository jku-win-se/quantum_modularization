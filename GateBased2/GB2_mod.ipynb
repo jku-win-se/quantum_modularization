{
 "cells": [
  {
   "cell_type": "code",
   "execution_count": 1,
   "metadata": {},
   "outputs": [],
   "source": [
    "from qiskit import IBMQ"
   ]
  },
  {
   "cell_type": "code",
   "execution_count": null,
   "metadata": {},
   "outputs": [],
   "source": [
    "IBMQ.load_account()"
   ]
  },
  {
   "cell_type": "code",
   "execution_count": 4,
   "metadata": {},
   "outputs": [
    {
     "name": "stdout",
     "output_type": "stream",
     "text": [
      "importing Jupyter notebook from QLS_for_GB2_mod.ipynb\n",
      "importing Jupyter notebook from QAOA_for_QLS.ipynb\n",
      "importing Jupyter notebook from Side_Calc_GB2.ipynb\n"
     ]
    }
   ],
   "source": [
    "import numpy as np\n",
    "import networkx as nx\n",
    "from operator import itemgetter\n",
    "import import_ipynb\n",
    "import QLS_for_GB2_mod as qls"
   ]
  },
  {
   "cell_type": "code",
   "execution_count": 5,
   "metadata": {},
   "outputs": [],
   "source": [
    "def compute_mod(G,k): #returns modularity for given consideration of node attributes\n",
    "    #--> alternative approaches to yield maximum modularity: brute force search in space\n",
    "    #of power set with detected communities (by recursive_QLS) as its elements\n",
    "    for i in G.nodes:\n",
    "        sum=0\n",
    "        for j in range(0,k):\n",
    "            sum=sum+pow(2,j)*G.nodes[i][\"Spin{}\".format(j)] #binary encoding of community by node attributes\n",
    "        G.nodes[i][\"colour\"]=sum\n",
    "    \n",
    "    groups = set(nx.get_node_attributes(G,'colour').values())\n",
    "    communities=list()\n",
    "    \n",
    "    for l in groups: #create propper community form for nx-function\n",
    "        group=set()\n",
    "        for i in G.nodes:\n",
    "            if G.nodes[i][\"colour\"]==l:\n",
    "                group.add(i)\n",
    "        communities.append(group)\n",
    "    \n",
    "    result=nx.algorithms.community.quality.modularity(G, communities)\n",
    "    return result, communities"
   ]
  },
  {
   "cell_type": "code",
   "execution_count": 6,
   "metadata": {},
   "outputs": [],
   "source": [
    "def recursive_QLS(G,k, backend='simulator', subset_size=12, iter=0):\n",
    "    if len(G)==0:\n",
    "        return 0 #stopping criteria if there are no further nodes\n",
    "    lis=list(G.nodes())\n",
    "    n=len(lis)\n",
    "    subgraph2graph=dict((x,lis[x]) for x in range (n))\n",
    "    graph2subgraph=dict((lis[x],x) for x in range (n))\n",
    "    \n",
    "    result=qls.QLS(G, backend, subset_size, method='QAOA') #call QLS for partition into two communities\n",
    "    solution=result[2]\n",
    "    iter_time=(result[0])\n",
    "    #global total_time\n",
    "    #total_time+=iter_time\n",
    "    \n",
    "    if -1 in solution:\n",
    "        solution = [0 if x == -1 else 1 if x == 1 else 'Error' for x in solution]\n",
    "        \n",
    "    \n",
    "    for i,j in zip(G.nodes, range(0,len(G))): #add node attributes according to QLS solution\n",
    "        G.nodes[i][\"Spin{}\".format(iter)]=solution[j]\n",
    "        \n",
    "    #create subgraphs for further recursions    \n",
    "    subnodes1 = (node\n",
    "                    for node, data\n",
    "                    in G.nodes(data=True)\n",
    "                    if data.get(\"Spin{}\".format(iter)) == 1)\n",
    "        \n",
    "    subnodes2 = (node\n",
    "                    for node, data\n",
    "                    in G.nodes(data=True)\n",
    "                    if data.get(\"Spin{}\".format(iter)) == 0)\n",
    "        \n",
    "    G1 = G.subgraph(subnodes1)\n",
    "    G2 = G.subgraph(subnodes2)\n",
    "    \n",
    "    \n",
    "    iter+=1\n",
    "    if iter>=k:\n",
    "        return 0\n",
    "    \n",
    "    recursive_QLS(G1,k,backend, subset_size, iter)\n",
    "    recursive_QLS(G2,k,backend, subset_size, iter)"
   ]
  },
  {
   "cell_type": "code",
   "execution_count": 7,
   "metadata": {},
   "outputs": [],
   "source": [
    "def GB2_mod(graphname, k=None, backend='simulator', subset_size=None): #overall function specifically for Zachary Karate Club Graph (generalization stated in code/paper)\n",
    "    G=nx.read_gpickle(graphname)\n",
    "    if k==None:\n",
    "        k=int(np.log2(int(np.sqrt(len(G)))+1))+1\n",
    "    #k=3 #for this special case: Zachary Karate Club has 34 nodes\n",
    "    #--> number of communities c=int(sqrt(34))+1, --> k=int(log2(c))+1=3\n",
    "    \n",
    "    if subset_size==None: \n",
    "        provider = IBMQ.get_provider(hub='ibm-q')\n",
    "        if backend=='melbourne':\n",
    "            bd=provider.get_backend('ibmq_16_melbourne')\n",
    "        elif backend=='simulator':\n",
    "            bd=provider.get_backend('ibmq_qasm_simulator')\n",
    "        else: bd=provider.get_backend(backend)\n",
    "        \n",
    "        prop=bd.properties()\n",
    "        if prop==None:\n",
    "            raise ValueError (\"For some backends (e.g. the simulators), a subset_size has to be specified as there is no information about available qubits!\")\n",
    "        subset_size=len(prop.to_dict()['qubits'])-2 #minus two in case ancillary qubits are required\n",
    "    \n",
    "    #total_time=0\n",
    "    \n",
    "    recursive_QLS(G,k, backend, subset_size)\n",
    "    \n",
    "    mod0=[0,0]\n",
    "    mod1=0\n",
    "    \n",
    "    for i in range (1,k):\n",
    "        mod1=compute_mod(G,i) #found to be highest modularity when considering 4 communities\n",
    "        \n",
    "        if mod1[0]>mod0[0]:\n",
    "            mod0=mod1\n",
    "        \n",
    "        \n",
    "    communities=mod0[1]\n",
    "    return (communities, mod0[0])#total_time)"
   ]
  },
  {
   "cell_type": "code",
   "execution_count": null,
   "metadata": {},
   "outputs": [],
   "source": []
  }
 ],
 "metadata": {
  "kernelspec": {
   "display_name": "Python 3",
   "language": "python",
   "name": "python3"
  },
  "language_info": {
   "codemirror_mode": {
    "name": "ipython",
    "version": 3
   },
   "file_extension": ".py",
   "mimetype": "text/x-python",
   "name": "python",
   "nbconvert_exporter": "python",
   "pygments_lexer": "ipython3",
   "version": "3.8.5"
  }
 },
 "nbformat": 4,
 "nbformat_minor": 4
}
