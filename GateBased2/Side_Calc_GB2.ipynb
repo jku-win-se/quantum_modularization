{
 "cells": [
  {
   "cell_type": "code",
   "execution_count": 1,
   "metadata": {},
   "outputs": [],
   "source": [
    "import numpy as np\n",
    "import copy\n",
    "import networkx as nx\n",
    "import networkx.algorithms.community as nx_comm\n",
    "\n",
    "import matplotlib.pyplot as plt \n",
    "from   matplotlib import cm\n",
    "from   matplotlib.ticker import LinearLocator, FormatStrFormatter\n",
    "%config InlineBackend.figure_format = 'svg'"
   ]
  },
  {
   "cell_type": "code",
   "execution_count": 1,
   "metadata": {},
   "outputs": [],
   "source": [
    "def compute_modularity(n_nodes, B, bitstring, C=None): #returns unnormalized modularity\n",
    "    if isinstance(n_nodes, nx.Graph) or isinstance(n_nodes, nx.DiGraph):\n",
    "        # legacy\n",
    "        n_nodes = n_nodes.number_of_nodes()\n",
    "    if 0 in bitstring:\n",
    "        # assuming bitstring is of zeros and ones\n",
    "        bitstring = [\n",
    "            -1 if x == 0 else 1 if x == 1 else 'Error' for x in bitstring\n",
    "        ]\n",
    "    if 'Error' in bitstring or len(bitstring) != n_nodes:\n",
    "        raise ValueError(\n",
    "            \"Incorrect bistring encountered. Only accepts bitstrings containing 0s and 1s or -1s and 1s of the size equal to number of nodes in G\"\n",
    "        )\n",
    "    if not isinstance(bitstring, np.ndarray):\n",
    "        bitstring = np.asarray(bitstring)\n",
    "    if not isinstance(C, np.ndarray) and C is not None:\n",
    "        C = np.asarray(C)\n",
    "    cost = (bitstring.dot(B)).dot(bitstring.T)\n",
    "    if C is not None:\n",
    "        cost += C.T.dot(bitstring)\n",
    "    \n",
    "    return float(cost)\n",
    "\n",
    "\n",
    "def compute_gain(G, B, curr_bitstring, v, return_v=False, graph2subgraph=None):\n",
    "    reassigned = copy.deepcopy(curr_bitstring)\n",
    "    #print(list(G.nodes()))\n",
    "    #print(graph2subgraph)\n",
    "    \n",
    "    if graph2subgraph is None:\n",
    "        reassigned[v] = -curr_bitstring[v]\n",
    "    else:\n",
    "        reassigned[graph2subgraph[v]] = -curr_bitstring[graph2subgraph[v]]\n",
    "   \n",
    "    \n",
    "    gain = (\n",
    "        compute_modularity(G.number_of_nodes(), B, reassigned) -\n",
    "        compute_modularity(G.number_of_nodes(), B, curr_bitstring))\n",
    "    \n",
    "    if return_v:\n",
    "        return gain, v\n",
    "    else:\n",
    "        return gain\n"
   ]
  },
  {
   "cell_type": "code",
   "execution_count": null,
   "metadata": {},
   "outputs": [],
   "source": []
  }
 ],
 "metadata": {
  "kernelspec": {
   "display_name": "Python 3",
   "language": "python",
   "name": "python3"
  },
  "language_info": {
   "codemirror_mode": {
    "name": "ipython",
    "version": 3
   },
   "file_extension": ".py",
   "mimetype": "text/x-python",
   "name": "python",
   "nbconvert_exporter": "python",
   "pygments_lexer": "ipython3",
   "version": "3.8.5"
  }
 },
 "nbformat": 4,
 "nbformat_minor": 4
}
