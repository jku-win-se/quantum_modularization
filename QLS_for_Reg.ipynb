{
 "cells": [
  {
   "cell_type": "code",
   "execution_count": 1,
   "metadata": {},
   "outputs": [
    {
     "name": "stdout",
     "output_type": "stream",
     "text": [
      "importing Jupyter notebook from QAOA_for_QLS.ipynb\n",
      "importing Jupyter notebook from Side_Calc_QLS.ipynb\n"
     ]
    }
   ],
   "source": [
    "%matplotlib inline\n",
    "\n",
    "import time\n",
    "import numpy as np\n",
    "import progressbar_renamed as progressbar\n",
    "import copy\n",
    "import networkx as nx\n",
    "from networkx.algorithms import bipartite\n",
    "from operator import itemgetter\n",
    "\n",
    "\n",
    "import import_ipynb\n",
    "import QAOA_for_QLS as qaoa\n",
    "import Side_Calc_QLS as sc"
   ]
  },
  {
   "cell_type": "code",
   "execution_count": 2,
   "metadata": {},
   "outputs": [],
   "source": [
    "def top_gains_populate_subset(lis, subset_size, gains):\n",
    "    if len(lis) <= subset_size:\n",
    "        return sorted(lis)\n",
    "    return [\n",
    "        x[0] for x in sorted(gains.items(), key=itemgetter(1))[-subset_size:]\n",
    "    ]"
   ]
  },
  {
   "cell_type": "code",
   "execution_count": 9,
   "metadata": {},
   "outputs": [],
   "source": [
    "def iteration_step(M, curr_solution, subset, lis):\n",
    "\n",
    "    subset2lis = dict((x,lis.index(subset[x])) for x in range(0, len(subset)))\n",
    "    node2lis=dict((lis[x],x) for x in range(len(lis)))\n",
    "    \n",
    "    n=len(subset)\n",
    "    C = [0.0] * n\n",
    "    for i in subset:\n",
    "        for j in set(lis) - set(subset):\n",
    "            C[subset.index(i)] += M[node2lis[i], node2lis[j]] * curr_solution[node2lis[j]]\n",
    "                                                           \n",
    "    indices = []  # rows and columns of M to keep for subset\n",
    "    for i in range(n):\n",
    "        indices.append(subset2lis[i])\n",
    "    indices=np.array(indices)\n",
    "    \n",
    "    result = qaoa.qaoa_basic(len(subset), M[np.ix_(indices, indices)],C)\n",
    "    optimized_subset=result.x\n",
    "    \n",
    "        \n",
    "    for i in range(0, len(optimized_subset)):\n",
    "        curr_solution[subset2lis[i]] = optimized_subset[i]\n",
    "    return curr_solution\n",
    "\n",
    "   \n",
    "\n",
    "def QLS(M,lis,size_of_iteration=12,stopping_criteria=3):\n",
    "    \n",
    "    n=len(lis)\n",
    "    # random initial guess\n",
    "    curr_solution = list(np.random.randint(2, size=n))\n",
    "    \n",
    "    curr_energy = sc.compute_energy(M, curr_solution)\n",
    "    \n",
    "    all_time_best_solution = curr_solution\n",
    "    all_time_best_energy = curr_energy\n",
    "\n",
    "    visited = set()\n",
    "    it = 0\n",
    "    it_stuck = 0\n",
    "    all_energies = []\n",
    "    \n",
    "    while (n - len(visited)):\n",
    "        it += 1\n",
    "        if it_stuck > stopping_criteria: \n",
    "            break\n",
    "        gains_list = []\n",
    "        for w in progressbar.progressbar(lis):\n",
    "            gains_list.append(sc.compute_gain(M, curr_solution, lis.index(w), True))\n",
    "        #print(gains_list)\n",
    "        gains = {lis[v]: gain for gain, v in gains_list} \n",
    "       #print(gains)\n",
    "        \n",
    "        \n",
    "        subset = top_gains_populate_subset(lis, size_of_iteration, gains)\n",
    "        \n",
    "        cand_solution = iteration_step(M, copy.deepcopy(curr_solution), list(subset),lis)\n",
    "        cand_energy = sc.compute_energy(M, cand_solution)\n",
    "        \n",
    "        #print('it', it, 'cand_energy', cand_energy, 'curr_best',\n",
    "              #all_time_best_energy)\n",
    "        #return cand_energy, cand_solution\n",
    "        \n",
    "        all_energies.append({\n",
    "            'it': it,\n",
    "            'cand_energy': cand_energy,\n",
    "            'curr_best': all_time_best_energy\n",
    "        })\n",
    "        if cand_energy > curr_energy:\n",
    "            curr_energy = cand_energy\n",
    "            curr_energy = cand_energy\n",
    "            it_stuck = 0\n",
    "        else:\n",
    "            it_stuck += 1\n",
    "        if curr_energy > all_time_best_energy:\n",
    "            all_time_best_solution = curr_solution\n",
    "            all_time_best_energy = curr_energy\n",
    "        \n",
    "        #break Bedingung?, vgl.: single_level_refinement\n",
    "    return (all_time_best_energy, all_time_best_solution, it,\n",
    "            all_energies)\n",
    "        "
   ]
  },
  {
   "cell_type": "code",
   "execution_count": 11,
   "metadata": {},
   "outputs": [
    {
     "name": "stderr",
     "output_type": "stream",
     "text": [
      "100% (6 of 6) |##########################| Elapsed Time: 0:00:00 Time:  0:00:00\n"
     ]
    },
    {
     "data": {
      "text/plain": [
       "(12.0, [1, 1.0, 1.0, 1.0, 1, 1.0])"
      ]
     },
     "execution_count": 11,
     "metadata": {},
     "output_type": "execute_result"
    }
   ],
   "source": [
    "\n",
    "M=[[1,1,1,0,0,0],[1,1,1,0,0,0],[1,1,1,0,0,0],[0,0,0,1,0,0],[0,0,0,0,1,0],[0,0,0,0,0,1]]\n",
    "M=np.array(M)\n",
    "#cur_solution=np.random.randint(2, size=12)\n",
    "#cur_solution=[1,1,1,1,1,1,1,1,1,1,1,1]\n",
    "#cur_solution=[0,1,1,0,1,1,0,1,1,0,0,0,]\n",
    "#vorher=curr_solution\n",
    "#print(cur_solution)\n",
    "#subset=(18,37,68,25,52)\n",
    "lis=(2,5,8,12,16,18)\n",
    "\n",
    "QLS(M, lis)"
   ]
  },
  {
   "cell_type": "code",
   "execution_count": null,
   "metadata": {},
   "outputs": [],
   "source": []
  },
  {
   "cell_type": "code",
   "execution_count": null,
   "metadata": {},
   "outputs": [],
   "source": []
  }
 ],
 "metadata": {
  "kernelspec": {
   "display_name": "Python 3",
   "language": "python",
   "name": "python3"
  },
  "language_info": {
   "codemirror_mode": {
    "name": "ipython",
    "version": 3
   },
   "file_extension": ".py",
   "mimetype": "text/x-python",
   "name": "python",
   "nbconvert_exporter": "python",
   "pygments_lexer": "ipython3",
   "version": "3.8.5"
  }
 },
 "nbformat": 4,
 "nbformat_minor": 4
}
