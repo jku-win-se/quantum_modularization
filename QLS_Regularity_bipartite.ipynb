{
 "cells": [
  {
   "cell_type": "code",
   "execution_count": 1,
   "metadata": {},
   "outputs": [
    {
     "name": "stdout",
     "output_type": "stream",
     "text": [
      "importing Jupyter notebook from QLS_for_Reg_test.ipynb\n",
      "importing Jupyter notebook from QAOA_for_QLS.ipynb\n"
     ]
    },
    {
     "name": "stderr",
     "output_type": "stream",
     "text": [
      "N/A% (0 of 12) |                         | Elapsed Time: 0:00:00 ETA:  --:--:--"
     ]
    },
    {
     "name": "stdout",
     "output_type": "stream",
     "text": [
      "importing Jupyter notebook from Side_Calc_QLS.ipynb\n"
     ]
    },
    {
     "name": "stderr",
     "output_type": "stream",
     "text": [
      "100% (12 of 12) |########################| Elapsed Time: 0:00:00 Time:  0:00:00\n"
     ]
    }
   ],
   "source": [
    "import time\n",
    "from pyqubo import Array\n",
    "import numpy as np\n",
    "import matplotlib.pyplot as plt\n",
    "from scipy import sparse\n",
    "import networkx as nx\n",
    "from networkx.algorithms import bipartite\n",
    "from random import random\n",
    "import neal\n",
    "import itertools\n",
    "import random\n",
    "import array as arr\n",
    "from matplotlib import pyplot as plt\n",
    "\n",
    "import import_ipynb\n",
    "import QLS_for_Reg_bipartite as QLS"
   ]
  },
  {
   "cell_type": "code",
   "execution_count": 2,
   "metadata": {},
   "outputs": [],
   "source": [
    "def QLS_by_regularity(G):\n",
    "    a=nx.to_numpy_array(G)\n",
    "\n",
    "    #a = genfromtxt('a250.csv', delimiter=',') #read adjacency matrix\n",
    "\n",
    "    #plt.matshow(a) (print a)\n",
    "    #plt.show()\n",
    "    n=len(G)\n",
    "    li=list(range(1,n+1))\n",
    "    # Create qubo from the graph matrix            \n",
    "\n",
    "    ra=np.random.randint(2, size=n) #random partitioning of nodes in two classes lis1 and lis2\n",
    "    lis1=[]\n",
    "    lis2=[]\n",
    "    for i in range(n):\n",
    "        if ra[i]==0:\n",
    "            lis1.append(i)\n",
    "        else:\n",
    "            lis2.append(i)\n",
    "    #nodes of graph with adjacency matrix are divided uniformly at random in two sets, described\n",
    "    #by lists list1 and list2\n",
    "    coss=[] #values of energy per node at each round\n",
    "    liis1=lis1\n",
    "    liis2=lis2\n",
    "    \n",
    "    \n",
    "    for je in range(5): #tryes to find communities in 5 rounds\n",
    "        print(\"Round\"+str(je+1))\n",
    "        energypernode=[]\n",
    "        if je>0: #removes found communities in each round\n",
    "            \n",
    "            for i in range(len(so1)):\n",
    "                if so1[i] not in liis1:\n",
    "                    return 0\n",
    "                liis1.remove(so1[i])       \n",
    "            for i in range(len(so2)):\n",
    "                if so2[i] not in liis2:\n",
    "                    return 0\n",
    "                liis2.remove(so2[i])\n",
    "        lis1=liis1\n",
    "        lis2=liis2    \n",
    "        n1=len(lis1)\n",
    "        n2=len(lis2)\n",
    "        n=n1+n2\n",
    "        if n1==0 or n2==0:\n",
    "            break\n",
    "        print(\"verbleibende Knoten:\"+str(n1+n2)+str(lis1)+str(lis2))\n",
    "\n",
    "        b = [[0 for x in range(n2)] for y in range(n1)] #square adjacency matrix of bipartite graph\n",
    "        for i in range(n1):\n",
    "            for j in range(n2):\n",
    "                b[i][j]=a[lis1[i]][lis2[j]]\n",
    "        \n",
    "       \n",
    "        \n",
    "        #plt.matshow(b)\n",
    "        #plt.show() #print b-matrix by taking off #'s\n",
    "        #b is the block of adjacency matrix of bipartite graph with bipartition list1 and list2\n",
    "\n",
    "\n",
    "        b=(np.asarray(b))\n",
    "        \n",
    "    \n",
    "        db=np.sum(b)\n",
    "        db=db/(n1*n2)\n",
    "        db1=db #db1 is density at the beginning\n",
    "        ded=[db1]\n",
    "        emax=5 #emax is number of max iterations at each round\n",
    "        eni=0  #energy of previous  step\n",
    "       \n",
    "        for e in range(emax):        \n",
    "            \n",
    "            n1=len(lis1)\n",
    "            n2=len(lis2)\n",
    "            n=len(lis1+lis2)\n",
    "\n",
    "            b = [[0 for x in range(n2)] for y in range(n1)] \n",
    "            for i in range(n1):\n",
    "                for j in range(n2):\n",
    "                    b[i][j]=a[lis1[i]][lis2[j]]\n",
    "            \n",
    "            #plt.matshow(b)\n",
    "            #plt.show() print b-matrix by taking off #'s\n",
    "            #b is the block of adjacency matrix of bipartite graph with bipartition list1 and list2\n",
    "            b=(np.asarray(b))\n",
    "                \n",
    "            db=np.sum(b)\n",
    "            db=db/(n1*n2)\n",
    "            #db is link density of bipartite graph b\n",
    "            ded.append(db)\n",
    "           # print(\"Ded\" + str(ded))\n",
    "            db1=db\n",
    "            #plt.matshow(b)\n",
    "           # plt.show()\n",
    "\n",
    "            la=lis1+lis2 #la has id's of nodes in a bipartite graph b\n",
    "            \n",
    "            M=b-db\n",
    "            \n",
    "            en=0 #energy of best solution       \n",
    "            \n",
    "            for gg in range(1):\n",
    "                startTime = time.time()\n",
    "                \n",
    "                result=QLS.QLS(M,lis1,lis2)\n",
    "                \n",
    "                \n",
    "                endTime = time.time()\n",
    "\n",
    "                #print(\"elapsed time: \" + str(endTime - startTime))\n",
    "\n",
    "                \n",
    "            \n",
    "            en=result[0]\n",
    "            d2=np.array(result[1])\n",
    "            \n",
    "            lis11=[]\n",
    "        \n",
    "            for i in range(n1):\n",
    "                 if(d2[i]==1):#if the spin has value 1, corresponding node is added\n",
    "                    lis11.append(la[i])\n",
    "            lis22=[]\n",
    "            for i in range(n1,n1+n2):\n",
    "                if(d2[i]==1):\n",
    "                    lis22.append(la[i])\n",
    "            lis1=lis11\n",
    "            lis2=lis22                \n",
    "            n1=len(lis1)\n",
    "            n2=len(lis2)\n",
    "            if n1==0 or n2==0:\n",
    "                break\n",
    "            ep=en/(n1*n2)          \n",
    "            \n",
    "            if ep>eni:\n",
    "                eni=ep\n",
    "                solu=lis1+lis2\n",
    "                so1=np.array(lis1)\n",
    "                so2=np.array(lis2)\n",
    "            if ep<eni: #stopping criteria in each round\n",
    "                coss.append(eni)\n",
    "                break\n",
    "          \n",
    "            energypernode.append(ep)\n",
    "            print(energypernode)\n",
    "            print(solu) # solu is list of nodes in current community \n",
    "           \n",
    "        \n",
    "    print(coss)"
   ]
  },
  {
   "cell_type": "code",
   "execution_count": 3,
   "metadata": {},
   "outputs": [
    {
     "name": "stderr",
     "output_type": "stream",
     "text": [
      "  2% (1 of 34) |                         | Elapsed Time: 0:00:00 ETA:   0:00:04"
     ]
    },
    {
     "name": "stdout",
     "output_type": "stream",
     "text": [
      "Anzahlt der Knoten:34\n",
      "Round1\n",
      "verbleibende Knoten:34[3, 4, 5, 6, 7, 9, 10, 13, 18, 19, 20, 22, 26, 27, 28, 32][0, 1, 2, 8, 11, 12, 14, 15, 16, 17, 21, 23, 24, 25, 29, 30, 31, 33]\n"
     ]
    },
    {
     "name": "stderr",
     "output_type": "stream",
     "text": [
      "100% (34 of 34) |########################| Elapsed Time: 0:00:00 Time:  0:00:00\n"
     ]
    },
    {
     "name": "stdout",
     "output_type": "stream",
     "text": [
      "[0.22948232323232323]\n",
      "[3, 5, 6, 7, 13, 18, 19, 26, 27, 28, 32, 0, 1, 2, 8, 12, 33]\n",
      "[]\n"
     ]
    }
   ],
   "source": [
    "G = nx.karate_club_graph()\n",
    "\n",
    "#A=nx.to_numpy_array(G)\n",
    "#plt.matshow(A)\n",
    "#plt.show()\n",
    "print(\"Anzahlt der Knoten:\"+str(len(G)))\n",
    "QLS_by_regularity(G)\n",
    "\n"
   ]
  },
  {
   "cell_type": "code",
   "execution_count": null,
   "metadata": {},
   "outputs": [],
   "source": []
  }
 ],
 "metadata": {
  "kernelspec": {
   "display_name": "Python 3",
   "language": "python",
   "name": "python3"
  },
  "language_info": {
   "codemirror_mode": {
    "name": "ipython",
    "version": 3
   },
   "file_extension": ".py",
   "mimetype": "text/x-python",
   "name": "python",
   "nbconvert_exporter": "python",
   "pygments_lexer": "ipython3",
   "version": "3.8.5"
  }
 },
 "nbformat": 4,
 "nbformat_minor": 4
}
