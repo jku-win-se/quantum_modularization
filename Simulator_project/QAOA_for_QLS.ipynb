{
 "cells": [
  {
   "cell_type": "code",
   "execution_count": 1,
   "metadata": {},
   "outputs": [],
   "source": [
    "%matplotlib inline\n",
    "# useful additional packages \n",
    "\n",
    "#import math tools\n",
    "import numpy as np\n",
    "\n",
    "# We import the tools to handle general Graphs\n",
    "import networkx as nx\n",
    "\n",
    "# We import plotting tools \n",
    "import matplotlib.pyplot as plt \n",
    "from   matplotlib import cm\n",
    "from   matplotlib.ticker import LinearLocator, FormatStrFormatter\n",
    "%config InlineBackend.figure_format = 'svg' # Makes the images look nice\n",
    "\n",
    "from qiskit.optimization import QuadraticProgram\n",
    "from qiskit import BasicAer\n",
    "from qiskit.aqua.algorithms import QAOA, NumPyMinimumEigensolver\n",
    "from qiskit.optimization.algorithms import MinimumEigenOptimizer, RecursiveMinimumEigenOptimizer\n",
    "from qiskit import IBMQ"
   ]
  },
  {
   "cell_type": "code",
   "execution_count": 2,
   "metadata": {},
   "outputs": [
    {
     "name": "stderr",
     "output_type": "stream",
     "text": [
      "C:\\Users\\fege9\\anaconda3\\lib\\site-packages\\qiskit\\providers\\ibmq\\ibmqfactory.py:109: UserWarning: Timestamps in IBMQ backend properties, jobs, and job results are all now in local time instead of UTC.\n",
      "  warnings.warn('Timestamps in IBMQ backend properties, jobs, and job results '\n"
     ]
    },
    {
     "data": {
      "text/plain": [
       "<AccountProvider for IBMQ(hub='ibm-q', group='open', project='main')>"
      ]
     },
     "execution_count": 2,
     "metadata": {},
     "output_type": "execute_result"
    }
   ],
   "source": [
    "#IBMQ.enable_account(token=, hub='ibm-q', group='open', project= 'main')"
   ]
  },
  {
   "cell_type": "code",
   "execution_count": 3,
   "metadata": {},
   "outputs": [],
   "source": [
    "def qaoa_basic(n,B,C=None, backend='simulator'):\n",
    "\n",
    "    provider = IBMQ.get_provider(hub='ibm-q') #getting the appropriate backend from IBM\n",
    "    if backend=='melbourne':\n",
    "        backend=provider.get_backend('ibmq_16_melbourne')\n",
    "    elif backend=='simulator':\n",
    "        backend=provider.get_backend('ibmq_qasm_simulator')\n",
    "    \n",
    "    # create a QUBO\n",
    "    qubo = QuadraticProgram()\n",
    "    for i in range(0,n):\n",
    "        qubo.binary_var('x{}'.format(i))\n",
    "\n",
    "    qubo.maximize(linear=C, quadratic=B)\n",
    "    \n",
    "    qaoa_mes = QAOA(quantum_instance=backend)\n",
    "    qaoa = MinimumEigenOptimizer(qaoa_mes)   # using wrapper for QAOA\n",
    "    \n",
    "    qaoa_result = qaoa.solve(qubo)\n",
    "    \n",
    "    ex_time=0\n",
    "    job_id = backend.jobs()[0].job_id() #get time info for latest job\n",
    "    #alternative: consider last several jobs that represent subproblem\n",
    "    job = backend.retrieve_job(job_id)\n",
    "    time_steps=job.time_per_step()\n",
    "    RUNTIME = time_steps[\"COMPLETED\"] - time_steps[\"RUNNING\"]\n",
    "    ex_time=RUNTIME.total_seconds()\n",
    "        \n",
    "    ex_time=ex_time*1000 #time in milliseconds\n",
    "    \n",
    "    \n",
    "    return qaoa_result, ex_time"
   ]
  },
  {
   "cell_type": "code",
   "execution_count": 4,
   "metadata": {},
   "outputs": [
    {
     "data": {
      "text/plain": [
       "(optimal function value: 5.5\n",
       " optimal value: [0. 0. 0. 0. 1. 1. 1. 1.]\n",
       " status: SUCCESS,\n",
       " 1202.0)"
      ]
     },
     "execution_count": 4,
     "metadata": {},
     "output_type": "execute_result"
    }
   ],
   "source": [
    "G=nx.barbell_graph(4,0)\n",
    "n=8\n",
    "B=nx.modularity_matrix(G)\n",
    "\n",
    "qaoa_basic(n, B)"
   ]
  },
  {
   "cell_type": "code",
   "execution_count": null,
   "metadata": {},
   "outputs": [],
   "source": []
  }
 ],
 "metadata": {
  "kernelspec": {
   "display_name": "Python 3",
   "language": "python",
   "name": "python3"
  },
  "language_info": {
   "codemirror_mode": {
    "name": "ipython",
    "version": 3
   },
   "file_extension": ".py",
   "mimetype": "text/x-python",
   "name": "python",
   "nbconvert_exporter": "python",
   "pygments_lexer": "ipython3",
   "version": "3.8.5"
  }
 },
 "nbformat": 4,
 "nbformat_minor": 4
}
