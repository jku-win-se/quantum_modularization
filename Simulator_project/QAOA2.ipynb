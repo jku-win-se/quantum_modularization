{
 "cells": [
  {
   "cell_type": "code",
   "execution_count": 1,
   "metadata": {},
   "outputs": [],
   "source": [
    "#alternative implementation of QAOA as mentioned in the paper\n",
    "\n",
    "import numpy as np\n",
    "import networkx as nx\n",
    "\n",
    "from qiskit import BasicAer\n",
    "from qiskit.aqua.algorithms import NumPyMinimumEigensolver\n",
    "from qiskit.optimization.applications.ising import graph_partition\n",
    "from qiskit.optimization.applications.ising.common import random_graph, sample_most_likely\n",
    "\n",
    "from qiskit.aqua import aqua_globals\n",
    "from qiskit.aqua.algorithms import QAOA\n",
    "from qiskit.aqua.components.optimizers import COBYLA\n",
    "from qiskit.circuit.library import TwoLocal\n",
    "\n",
    "from qiskit.quantum_info import Pauli\n",
    "from qiskit.aqua.operators import WeightedPauliOperator\n",
    "from qiskit import IBMQ"
   ]
  },
  {
   "cell_type": "code",
   "execution_count": 2,
   "metadata": {},
   "outputs": [
    {
     "name": "stderr",
     "output_type": "stream",
     "text": [
      "C:\\Users\\fege9\\anaconda3\\lib\\site-packages\\qiskit\\providers\\ibmq\\ibmqfactory.py:109: UserWarning: Timestamps in IBMQ backend properties, jobs, and job results are all now in local time instead of UTC.\n",
      "  warnings.warn('Timestamps in IBMQ backend properties, jobs, and job results '\n"
     ]
    },
    {
     "data": {
      "text/plain": [
       "<AccountProvider for IBMQ(hub='ibm-q', group='open', project='main')>"
      ]
     },
     "execution_count": 2,
     "metadata": {},
     "output_type": "execute_result"
    }
   ],
   "source": [
    "#IBMQ.enable_account(token= , hub='ibm-q', group='open', project= 'main')"
   ]
  },
  {
   "cell_type": "code",
   "execution_count": 5,
   "metadata": {},
   "outputs": [],
   "source": [
    "def qaoa2(n,B,C=None, backend='simulator'): \n",
    "    aqua_globals.random_seed = 10598\n",
    "\n",
    "    provider = IBMQ.get_provider(hub='ibm-q') #getting the appropriate backend from IBM\n",
    "    if backend=='melbourne':\n",
    "        backend=provider.get_backend('ibmq_16_melbourne')\n",
    "    elif backend=='simulator':\n",
    "        backend=provider.get_backend('ibmq_qasm_simulator')\n",
    "    \n",
    "    optimizer = COBYLA()\n",
    "    pauli_list = []\n",
    "\n",
    "    for i in range(n):\n",
    "        for j in range(i):\n",
    "            if B[i, j] != 0:\n",
    "                x_p = np.zeros(n, dtype=np.bool)\n",
    "                z_p = np.zeros(n, dtype=np.bool)\n",
    "                z_p[i] = True\n",
    "                z_p[j] = True\n",
    "                pauli_list.append([-B[i,j], Pauli(z_p, x_p)])\n",
    "    \n",
    "    quop=WeightedPauliOperator(paulis=pauli_list)\n",
    "    \n",
    "    \n",
    "    qaoa = QAOA(quop, optimizer, quantum_instance=backend) #Alternative: BasicAer.get_backend('statevector_simulator')\n",
    "\n",
    "    result = qaoa.compute_minimum_eigenvalue()\n",
    "\n",
    "    x = sample_most_likely(result.eigenstate)\n",
    "    \n",
    "\n",
    "    return x"
   ]
  },
  {
   "cell_type": "code",
   "execution_count": 6,
   "metadata": {},
   "outputs": [
    {
     "name": "stdout",
     "output_type": "stream",
     "text": [
      "[1 1 1 1 0 0 0 0]\n"
     ]
    }
   ],
   "source": [
    "G=nx.barbell_graph(4,0)\n",
    "n=8\n",
    "B=nx.modularity_matrix(G)\n",
    "\n",
    "result=qaoa2(n,B)\n",
    "print(result)"
   ]
  },
  {
   "cell_type": "code",
   "execution_count": null,
   "metadata": {},
   "outputs": [],
   "source": []
  }
 ],
 "metadata": {
  "kernelspec": {
   "display_name": "Python 3",
   "language": "python",
   "name": "python3"
  },
  "language_info": {
   "codemirror_mode": {
    "name": "ipython",
    "version": 3
   },
   "file_extension": ".py",
   "mimetype": "text/x-python",
   "name": "python",
   "nbconvert_exporter": "python",
   "pygments_lexer": "ipython3",
   "version": "3.8.5"
  }
 },
 "nbformat": 4,
 "nbformat_minor": 4
}
