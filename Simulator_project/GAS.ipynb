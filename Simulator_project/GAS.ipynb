{
 "cells": [
  {
   "cell_type": "code",
   "execution_count": 1,
   "metadata": {},
   "outputs": [],
   "source": [
    "import numpy as np\n",
    "import networkx as nx\n",
    "from qiskit.aqua.algorithms import NumPyMinimumEigensolver\n",
    "from qiskit.optimization.algorithms import GroverOptimizer, MinimumEigenOptimizer\n",
    "from qiskit.optimization.problems import QuadraticProgram\n",
    "from qiskit import BasicAer\n",
    "from qiskit import IBMQ"
   ]
  },
  {
   "cell_type": "code",
   "execution_count": 2,
   "metadata": {},
   "outputs": [
    {
     "name": "stderr",
     "output_type": "stream",
     "text": [
      "C:\\Users\\fege9\\anaconda3\\lib\\site-packages\\qiskit\\providers\\ibmq\\ibmqfactory.py:109: UserWarning: Timestamps in IBMQ backend properties, jobs, and job results are all now in local time instead of UTC.\n",
      "  warnings.warn('Timestamps in IBMQ backend properties, jobs, and job results '\n"
     ]
    },
    {
     "data": {
      "text/plain": [
       "<AccountProvider for IBMQ(hub='ibm-q', group='open', project='main')>"
      ]
     },
     "execution_count": 2,
     "metadata": {},
     "output_type": "execute_result"
    }
   ],
   "source": [
    "#IBMQ.enable_account(token=', hub='ibm-q', group='open', project= 'main')"
   ]
  },
  {
   "cell_type": "code",
   "execution_count": 3,
   "metadata": {},
   "outputs": [],
   "source": [
    "def gas(n,B,C=None, backend='simulator'):\n",
    "\n",
    "    provider = IBMQ.get_provider(hub='ibm-q') #getting the appropriate backend from IBM\n",
    "    if backend=='melbourne':\n",
    "        backend=provider.get_backend('ibmq_16_melbourne')\n",
    "    elif backend=='simulator':\n",
    "        backend=provider.get_backend('ibmq_qasm_simulator')\n",
    "    \n",
    "    # create a QUBO\n",
    "    qubo = QuadraticProgram()\n",
    "    for i in range(0,n):\n",
    "        qubo.binary_var('x{}'.format(i))\n",
    "\n",
    "    qubo.maximize(linear=C, quadratic=B)\n",
    "    \n",
    "    grover_optimizer = GroverOptimizer(2*n, num_iterations=10, quantum_instance=backend)\n",
    "    results = grover_optimizer.solve(qubo)\n",
    "    \n",
    "    ex_time=0\n",
    "    job_id = backend.jobs()[0].job_id() #get time info for latest job\n",
    "    #alternative: consider last several jobs that represent subproblem\n",
    "    job = backend.retrieve_job(job_id)\n",
    "    time_steps=job.time_per_step()\n",
    "    RUNTIME = time_steps[\"COMPLETED\"] - time_steps[\"RUNNING\"]\n",
    "    ex_time=RUNTIME.total_seconds()\n",
    "        \n",
    "    ex_time=ex_time*1000 #time in milliseconds\n",
    "    \n",
    "    \n",
    "    return results.x, ex_time"
   ]
  },
  {
   "cell_type": "code",
   "execution_count": 4,
   "metadata": {},
   "outputs": [
    {
     "data": {
      "text/plain": [
       "(array([0, 0, 1, 1, 1, 1, 1, 1]), 104377.0)"
      ]
     },
     "execution_count": 4,
     "metadata": {},
     "output_type": "execute_result"
    }
   ],
   "source": [
    "B=nx.modularity_matrix(nx.barbell_graph(4,0))\n",
    "n=8\n",
    "gas(n,B)"
   ]
  },
  {
   "cell_type": "code",
   "execution_count": null,
   "metadata": {},
   "outputs": [],
   "source": []
  }
 ],
 "metadata": {
  "kernelspec": {
   "display_name": "Python 3",
   "language": "python",
   "name": "python3"
  },
  "language_info": {
   "codemirror_mode": {
    "name": "ipython",
    "version": 3
   },
   "file_extension": ".py",
   "mimetype": "text/x-python",
   "name": "python",
   "nbconvert_exporter": "python",
   "pygments_lexer": "ipython3",
   "version": "3.8.5"
  }
 },
 "nbformat": 4,
 "nbformat_minor": 4
}
