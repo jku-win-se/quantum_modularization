{
 "cells": [
  {
   "cell_type": "code",
   "execution_count": 1,
   "metadata": {},
   "outputs": [],
   "source": [
    "import networkx as nx\n",
    "import numpy as np\n",
    "from dimod import DiscreteQuadraticModel\n",
    "from dwave.system import LeapHybridDQMSampler\n",
    "from dwave.cloud import Client"
   ]
  },
  {
   "cell_type": "code",
   "execution_count": 89,
   "metadata": {},
   "outputs": [],
   "source": [
    "# Modularization with DQM solver\n",
    "\n",
    "def QA1(graphname):\n",
    "    G=nx.read_gpickle(graphname)\n",
    "    B=nx.modularity_matrix(G)\n",
    "    num_partitions=int(np.sqrt(len(G.nodes())))\n",
    "    \n",
    "    partitions = range(num_partitions)\n",
    "    # Initialize the DQM object\n",
    "    dqm = DiscreteQuadraticModel()\n",
    "    \n",
    "    \n",
    "    for i in G.nodes():\n",
    "        dqm.add_variable(num_partitions, label=i)\n",
    "\n",
    "        \n",
    "   \n",
    "    for i in G.nodes():\n",
    "        for j in G.nodes():\n",
    "            if i==j:\n",
    "                continue #the algorithm skips the linear term in QUBO/Ising formulation as in k-community a node has to belong to one community, therefore there is no effect in the maximising constellation\n",
    "            dqm.set_quadratic(i,j, {(c, c): ((-1)*B[i,j]) for c in partitions})\n",
    "    \n",
    "    \n",
    "\n",
    "    # Initialize the DQM solver\n",
    "    sampler = LeapHybridDQMSampler()\n",
    "   # sampler = greedy.SteepestDescentSampler()\n",
    "    #sampleset = sampler.sample(dqm)\n",
    "\n",
    "    # Solve the problem using the DQM solver\n",
    "    sampleset = sampler.sample_dqm(dqm)\n",
    "\n",
    "    # get the first solution\n",
    "    sample = sampleset.first.sample\n",
    "    energy = sampleset.first.energy\n",
    "    \n",
    "    run_time=(sampleset.info['run_time'])*0.001 #total runtime in milliseconds\n",
    "\n",
    "    # Count the nodes in each partition\n",
    "    counts = np.zeros(num_partitions)\n",
    "    \n",
    "    #create communities as parameter for evaluation function\n",
    "    communities=[]\n",
    "    for k in partitions:\n",
    "        comm=[]\n",
    "        for i in sample:\n",
    "            if sample[i]==k:\n",
    "                comm.append(i)\n",
    "        communities.append(set(comm))\n",
    "\n",
    "    #compute number of nodes in each community\n",
    "    for i in sample:\n",
    "        counts[sample[i]] += 1\n",
    "    \n",
    "    return (communities, run_time, energy, counts,sample)"
   ]
  }
 ],
 "metadata": {
  "kernelspec": {
   "display_name": "Python 3",
   "language": "python",
   "name": "python3"
  },
  "language_info": {
   "codemirror_mode": {
    "name": "ipython",
    "version": 3
   },
   "file_extension": ".py",
   "mimetype": "text/x-python",
   "name": "python",
   "nbconvert_exporter": "python",
   "pygments_lexer": "ipython3",
   "version": "3.8.5"
  }
 },
 "nbformat": 4,
 "nbformat_minor": 4
}
