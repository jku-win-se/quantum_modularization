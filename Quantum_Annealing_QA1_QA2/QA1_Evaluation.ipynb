{
 "cells": [
  {
   "cell_type": "code",
   "execution_count": 1,
   "metadata": {},
   "outputs": [
    {
     "name": "stdout",
     "output_type": "stream",
     "text": [
      "importing Jupyter notebook from D_Wave_k_community.ipynb\n"
     ]
    }
   ],
   "source": [
    "import numpy as np\n",
    "import networkx as nx\n",
    "import import_ipynb\n",
    "from D_Wave_k_community import modularization"
   ]
  },
  {
   "cell_type": "code",
   "execution_count": null,
   "metadata": {},
   "outputs": [],
   "source": [
    "\"Karate Club:\""
   ]
  },
  {
   "cell_type": "code",
   "execution_count": 13,
   "metadata": {},
   "outputs": [],
   "source": [
    "G=nx.karate_club_graph()\n",
    "B=nx.modularity_matrix(G)\n",
    "k=int(np.sqrt(34))"
   ]
  },
  {
   "cell_type": "code",
   "execution_count": 15,
   "metadata": {},
   "outputs": [
    {
     "name": "stdout",
     "output_type": "stream",
     "text": [
      "0.41978961209730437 4985.381\n"
     ]
    }
   ],
   "source": [
    "result=modularization(G,B,k) #a former version has been used with additional parameters B,k; basic algorithm the same as in later evaluation\n",
    "mod=nx.algorithms.community.quality.modularity (G, result[0])\n",
    "print(mod, result[1])"
   ]
  },
  {
   "cell_type": "code",
   "execution_count": 16,
   "metadata": {},
   "outputs": [
    {
     "name": "stdout",
     "output_type": "stream",
     "text": [
      "0.41978961209730437 4992.724\n",
      "0.41978961209730437 5030.972\n",
      "0.41978961209730437 4984.167\n",
      "0.41978961209730437 5013.149\n"
     ]
    }
   ],
   "source": [
    "for i in range(4):\n",
    "    result=modularization(G,B,k)\n",
    "    mod=nx.algorithms.community.quality.modularity (G, result[0])\n",
    "    print(mod, result[1])"
   ]
  },
  {
   "cell_type": "code",
   "execution_count": null,
   "metadata": {},
   "outputs": [],
   "source": [
    "\"PP100:\""
   ]
  },
  {
   "cell_type": "code",
   "execution_count": 85,
   "metadata": {},
   "outputs": [
    {
     "name": "stdout",
     "output_type": "stream",
     "text": [
      "0.33412479474712004 5349.96\n"
     ]
    }
   ],
   "source": [
    "mod=nx.algorithms.community.quality.modularity (G2, result[0])\n",
    "print(mod, result[1])"
   ]
  },
  {
   "cell_type": "code",
   "execution_count": 88,
   "metadata": {},
   "outputs": [
    {
     "name": "stdout",
     "output_type": "stream",
     "text": [
      "0.33412479474712004 5360.929\n"
     ]
    }
   ],
   "source": [
    "mod=nx.algorithms.community.quality.modularity (G2, result[0])\n",
    "print(mod, result[1])"
   ]
  },
  {
   "cell_type": "code",
   "execution_count": 6,
   "metadata": {},
   "outputs": [
    {
     "name": "stdout",
     "output_type": "stream",
     "text": [
      "0.33412479474712004 5347.29\n",
      "0.33412479474712004 5389.968\n"
     ]
    }
   ],
   "source": [
    "G2=nx.read_gpickle(\"PP100\")\n",
    "for i in range(2):\n",
    "    result=modularization(G2)\n",
    "    mod=nx.algorithms.community.quality.modularity (G2, result[0])\n",
    "    print(mod, result[1])"
   ]
  },
  {
   "cell_type": "code",
   "execution_count": 5,
   "metadata": {},
   "outputs": [
    {
     "name": "stdout",
     "output_type": "stream",
     "text": [
      "0.33412479474712004 5359.31\n"
     ]
    }
   ],
   "source": [
    "mod=nx.algorithms.community.quality.modularity (G2, result[0])\n",
    "print(mod, result[1])"
   ]
  },
  {
   "cell_type": "code",
   "execution_count": 4,
   "metadata": {},
   "outputs": [
    {
     "data": {
      "text/plain": [
       "'LFR100'"
      ]
     },
     "execution_count": 4,
     "metadata": {},
     "output_type": "execute_result"
    }
   ],
   "source": [
    "\"LFR100\""
   ]
  },
  {
   "cell_type": "code",
   "execution_count": 2,
   "metadata": {},
   "outputs": [
    {
     "name": "stdout",
     "output_type": "stream",
     "text": [
      "0.14101404647253737 5354.068\n"
     ]
    }
   ],
   "source": [
    "G3=nx.read_gpickle(\"LFR100\")\n",
    "result=modularization(G3)\n",
    "mod=nx.algorithms.community.quality.modularity (G3, result[0])\n",
    "print(mod, result[1])"
   ]
  },
  {
   "cell_type": "code",
   "execution_count": 3,
   "metadata": {},
   "outputs": [
    {
     "name": "stdout",
     "output_type": "stream",
     "text": [
      "0.14705974745282827 5342.177\n",
      "0.14197546172870124 5374.785\n",
      "0.1458059671674899 5348.293\n",
      "0.14200715068096803 5343.22\n"
     ]
    }
   ],
   "source": [
    "for i in range(4):\n",
    "    result=modularization(G3)\n",
    "    mod=nx.algorithms.community.quality.modularity (G3, result[0])\n",
    "    print(mod, result[1])"
   ]
  },
  {
   "cell_type": "code",
   "execution_count": 2,
   "metadata": {},
   "outputs": [
    {
     "data": {
      "text/plain": [
       "'PP1000'"
      ]
     },
     "execution_count": 2,
     "metadata": {},
     "output_type": "execute_result"
    }
   ],
   "source": [
    "\"PP1000\""
   ]
  },
  {
   "cell_type": "code",
   "execution_count": 2,
   "metadata": {},
   "outputs": [
    {
     "name": "stdout",
     "output_type": "stream",
     "text": [
      "0.10424481685392695 353849.12\n"
     ]
    }
   ],
   "source": [
    "G4=nx.read_gpickle(\"PP1000\")\n",
    "result=modularization(G4)\n",
    "mod=nx.algorithms.community.quality.modularity (G4, result[0])\n",
    "print(mod, result[1])"
   ]
  },
  {
   "cell_type": "code",
   "execution_count": 2,
   "metadata": {},
   "outputs": [],
   "source": [
    "G5=nx.read_gpickle(\"LFR1000\")"
   ]
  },
  {
   "cell_type": "code",
   "execution_count": 4,
   "metadata": {},
   "outputs": [
    {
     "name": "stdout",
     "output_type": "stream",
     "text": [
      "0.35444979966871454 354771.32300000003\n"
     ]
    }
   ],
   "source": [
    "result=modularization(G5)\n",
    "mod=nx.algorithms.community.quality.modularity (G5, result[0])\n",
    "print(mod, result[1])"
   ]
  }
 ],
 "metadata": {
  "kernelspec": {
   "display_name": "Python 3",
   "language": "python",
   "name": "python3"
  },
  "language_info": {
   "codemirror_mode": {
    "name": "ipython",
    "version": 3
   },
   "file_extension": ".py",
   "mimetype": "text/x-python",
   "name": "python",
   "nbconvert_exporter": "python",
   "pygments_lexer": "ipython3",
   "version": "3.8.5"
  }
 },
 "nbformat": 4,
 "nbformat_minor": 4
}
