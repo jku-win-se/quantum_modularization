{
 "cells": [
  {
   "cell_type": "code",
   "execution_count": 8,
   "metadata": {},
   "outputs": [],
   "source": [
    "import networkx as nx\n",
    "import numpy as np\n",
    "from dimod import DiscreteQuadraticModel\n",
    "#from dwave.system import LeapHybridDQMSampler"
   ]
  },
  {
   "cell_type": "code",
   "execution_count": 20,
   "metadata": {},
   "outputs": [],
   "source": [
    "# Modularization with DQM solver\n",
    "\n",
    "\n",
    "\n",
    "def modularization(G,B,num_partitions):\n",
    "\n",
    "    partitions = range(num_partitions)\n",
    "    # Initialize the DQM object\n",
    "    dqm = DiscreteQuadraticModel()\n",
    "\n",
    "\n",
    "    for i in G.nodes:\n",
    "        dqm.add_variable(num_partitions, label=i)\n",
    "\n",
    "\n",
    "    for i in G.nodes: \n",
    "        linear_term = np.ones(num_partitions)*B[i,i]*(-1)\n",
    "        dqm.set_linear(i, linear_term)\n",
    "\n",
    "    for i,j in G.edges:\n",
    "        dqm.set_quadratic(i,j, {(c, c): ((-1)*B[i,j]) for c in partitions})\n",
    "\n",
    "    # Initialize the DQM solver\n",
    "    sampler = LeapHybridDQMSampler()\n",
    "   # sampler = greedy.SteepestDescentSampler()\n",
    "    #sampleset = sampler.sample(dqm)\n",
    "\n",
    "    # Solve the problem using the DQM solver\n",
    "    sampleset = sampler.sample_dqm(dqm)\n",
    "\n",
    "    # get the first solution\n",
    "    sample = sampleset.first.sample\n",
    "    energy = sampleset.first.energy\n",
    "\n",
    "    # Count the nodes in each partition\n",
    "    counts = np.zeros(num_partitions)\n",
    "\n",
    "    for i in sample:\n",
    "        counts[sample[i]] += 1\n",
    "\n",
    "    # Compute the number of links between different partitions\n",
    "    sum_diff = 0\n",
    "    for i, j in G.edges:\n",
    "        if sampleset.first.sample[i] != sampleset.first.sample[j]:\n",
    "            sum_diff += 1\n",
    "    \n",
    "    return (sample, energy, counts, sum_diff)"
   ]
  },
  {
   "cell_type": "code",
   "execution_count": 28,
   "metadata": {},
   "outputs": [],
   "source": [
    "# Number of nodes in the graph\n",
    "num_nodes = 30\n",
    "# Create a random geometric graph\n",
    "G = nx.random_geometric_graph(n=num_nodes, radius=0.4, dim=2, seed=518)\n",
    "\n",
    "\n",
    "\n",
    "def all_modularization(G):\n",
    "    B = nx.modularity_matrix(G, nodelist=sorted(G.nodes()), weight='weight')\n",
    "    all_solutions = []\n",
    "    \n",
    "    for num_partitions in range (2, int(np.sqrt(len(G))+1),1):  #Wurzel in Literatur oft als passend angeführt, e.g.Yuanyuan 2018 (QEA) \n",
    "    \n",
    "        result=modularization(G,B,num_partitions)\n",
    "        all_solutions.append({'number_of_partitions': num_partitions, 'solution': result[0], 'energy':result[1]})\n",
    "    \n",
    "        if (num_partitions==2):\n",
    "            best_energy=result[1]\n",
    "            best_solution=result[0]\n",
    "        else:\n",
    "            if result[1] < best_energy:\n",
    "                best_energy = result[1]\n",
    "                best_solution=result[0]\n",
    "    \n",
    "    \n",
    "    \n",
    "    return(best_solution, best_energy)"
   ]
  },
  {
   "cell_type": "code",
   "execution_count": null,
   "metadata": {},
   "outputs": [],
   "source": []
  }
 ],
 "metadata": {
  "kernelspec": {
   "display_name": "Python 3",
   "language": "python",
   "name": "python3"
  },
  "language_info": {
   "codemirror_mode": {
    "name": "ipython",
    "version": 3
   },
   "file_extension": ".py",
   "mimetype": "text/x-python",
   "name": "python",
   "nbconvert_exporter": "python",
   "pygments_lexer": "ipython3",
   "version": "3.8.5"
  }
 },
 "nbformat": 4,
 "nbformat_minor": 4
}
