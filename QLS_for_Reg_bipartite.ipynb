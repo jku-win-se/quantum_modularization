{
 "cells": [
  {
   "cell_type": "code",
   "execution_count": 1,
   "metadata": {},
   "outputs": [
    {
     "name": "stdout",
     "output_type": "stream",
     "text": [
      "importing Jupyter notebook from QAOA_for_QLS.ipynb\n",
      "importing Jupyter notebook from Side_Calc_QLS.ipynb\n"
     ]
    }
   ],
   "source": [
    "%matplotlib inline\n",
    "\n",
    "import time\n",
    "import numpy as np\n",
    "import progressbar_renamed as progressbar\n",
    "import copy\n",
    "import networkx as nx\n",
    "from networkx.algorithms import bipartite\n",
    "from operator import itemgetter\n",
    "\n",
    "\n",
    "import import_ipynb\n",
    "import QAOA_for_QLS as qaoa\n",
    "import Side_Calc_QLS_bipartite as sc"
   ]
  },
  {
   "cell_type": "code",
   "execution_count": 2,
   "metadata": {},
   "outputs": [],
   "source": [
    "def top_gains_populate_subset(la, subset_size, gains):\n",
    "    if len(la) <= subset_size:\n",
    "        return la\n",
    "    return [\n",
    "        x[0] for x in sorted(gains.items(), key=itemgetter(1))[-subset_size:]\n",
    "    ]"
   ]
  },
  {
   "cell_type": "code",
   "execution_count": 9,
   "metadata": {},
   "outputs": [],
   "source": [
    "def iteration_step(M, curr_solution, subset, lis1, lis2): #isoliert probiert, funktioniert!!\n",
    "\n",
    "    n=len(subset)\n",
    "    \n",
    "    \n",
    "    C = [0.0] * len(subset)\n",
    "    subset=set(subset)\n",
    "    la=set(list(lis1)+list(lis2))\n",
    "    lis1=set(lis1)\n",
    "    lis2=set(lis2)\n",
    "    \n",
    "    not_in_set=set(la)-subset\n",
    "    ss1=lis1.intersection(subset)\n",
    "    ss2=lis2.intersection(subset)\n",
    "    nss1=lis1.intersection(not_in_set)\n",
    "    nss2=lis2.intersection(not_in_set)\n",
    "    \n",
    "    lis1=sorted(list(lis1))\n",
    "    lis2=sorted(list(lis2))\n",
    "    la=lis1+lis2\n",
    "    subset=sorted(list(ss1))+sorted(list(ss2))\n",
    "    \n",
    "    subset2global = dict((x, la.index(subset[x])) for x in range(0, n))\n",
    "\n",
    "    indices1=[]\n",
    "    indices2=[]\n",
    "    for i in ss1:\n",
    "        indices1.append(lis1.index(i))\n",
    "        for j in nss2:\n",
    "            C[subset.index(i)]+=M[lis1.index(i)][lis2.index(j)]*curr_solution[la.index(j)]\n",
    "    for j in ss2:\n",
    "        indices2.append(lis2.index(j))\n",
    "        for i in nss1:\n",
    "            C[subset.index(j)]+=M[lis1.index(i)][lis2.index(j)]*curr_solution[la.index(i)]\n",
    "    \n",
    "    #only keep indices from subset in M, transform M into quadratic Matrix for qaoa\n",
    "    M=np.asarray(M)\n",
    "    ixgrid=np.ix_(indices1,indices2)\n",
    "    M=M[ixgrid]  \n",
    "    Mq=[[0 for x in range(n)] for y in range(n)]\n",
    "    for i in range(len(indices1)):\n",
    "        for j in range(len(indices2)):\n",
    "            Mq[i][j+len(indices1)]=M[i][j] #mal 2 wegen diagonal, oder nicht damit mit db etc zusammenpasst?\n",
    "    \n",
    "    result = qaoa.qaoa_basic(len(subset), Mq,C)\n",
    "    optimized_subset=result.x\n",
    "        \n",
    "    for i in range(0, len(list(ss1))):\n",
    "        curr_solution[subset2global[i]] = (optimized_subset[i])\n",
    "    for j in range(len(list(ss1)), len(subset)):\n",
    "        curr_solution[subset2global[j]] = (optimized_subset[j])\n",
    "        \n",
    "    return curr_solution\n",
    "   \n",
    "\n",
    "def QLS(M,lis1,lis2,size_of_iteration=12,stopping_criteria=3):\n",
    "    \n",
    "    la=lis1+lis2\n",
    "    n=len(la)\n",
    "    # random initial guess\n",
    "    curr_solution = list(np.random.randint(2, size=n))\n",
    "    \n",
    "    curr_energy = sc.compute_energy(M, curr_solution)\n",
    "    \n",
    "    all_time_best_solution = curr_solution\n",
    "    all_time_best_energy = curr_energy\n",
    "\n",
    "    visited = set()\n",
    "    it = 0\n",
    "    it_stuck = 0\n",
    "    all_energies = []\n",
    "    \n",
    "    while (n - len(visited)):\n",
    "        it += 1\n",
    "        if it_stuck > stopping_criteria: \n",
    "            break\n",
    "        gains_list = []\n",
    "        for v in progressbar.progressbar(la):\n",
    "            gains_list.append(sc.compute_gain(M, curr_solution, la.index(v), True))\n",
    "        #print(gains_list)\n",
    "        gains = {la[v]: gain for gain, v in gains_list} \n",
    "       #print(gains)\n",
    "        \n",
    "        \n",
    "        subset = top_gains_populate_subset(la, size_of_iteration, gains)\n",
    "        \n",
    "        cand_solution = iteration_step(M, copy.deepcopy(curr_solution), list(subset),lis1,lis2)\n",
    "        cand_energy = sc.compute_energy(M, cand_solution)\n",
    "        \n",
    "        #print('it', it, 'cand_energy', cand_energy, 'curr_best',\n",
    "              #all_time_best_energy)\n",
    "        #return cand_energy, cand_solution\n",
    "        \n",
    "        all_energies.append({\n",
    "            'it': it,\n",
    "            'cand_energy': cand_energy,\n",
    "            'curr_best': all_time_best_energy\n",
    "        })\n",
    "        if cand_energy > curr_energy:\n",
    "            curr_energy = cand_energy\n",
    "            curr_energy = cand_energy\n",
    "            it_stuck = 0\n",
    "        else:\n",
    "            it_stuck += 1\n",
    "        if curr_energy > all_time_best_energy:\n",
    "            all_time_best_solution = curr_solution\n",
    "            all_time_best_energy = curr_energy\n",
    "        \n",
    "        #break Bedingung?, vgl.: single_level_refinement\n",
    "    return (all_time_best_energy, all_time_best_solution, it,\n",
    "            all_energies)\n",
    "        "
   ]
  },
  {
   "cell_type": "code",
   "execution_count": 10,
   "metadata": {},
   "outputs": [
    {
     "name": "stderr",
     "output_type": "stream",
     "text": [
      "100% (12 of 12) |########################| Elapsed Time: 0:00:00 Time:  0:00:00\n"
     ]
    },
    {
     "name": "stdout",
     "output_type": "stream",
     "text": [
      "it 1 cand_energy 12.0 curr_best 2.0\n"
     ]
    },
    {
     "data": {
      "text/plain": [
       "0"
      ]
     },
     "execution_count": 10,
     "metadata": {},
     "output_type": "execute_result"
    }
   ],
   "source": [
    "\n",
    "M=[[1,1,1,0,0,0],[1,1,1,0,0,0],[1,1,1,0,0,0],[0,0,0,1,0,0],[0,0,0,0,1,0],[0,0,0,0,0,1]]\n",
    "M=np.array(M)\n",
    "#cur_solution=np.random.randint(2, size=12)\n",
    "#cur_solution=[1,1,1,1,1,1,1,1,1,1,1,1]\n",
    "#cur_solution=[0,1,1,0,1,1,0,1,1,0,0,0,]\n",
    "#vorher=curr_solution\n",
    "#print(cur_solution)\n",
    "#subset=(18,37,68,25,52)\n",
    "lis1=(13,18,26,37,51,68)\n",
    "lis2=(8,11,25,48,52,66)\n",
    "\n",
    "QLS(M, lis1,lis2)"
   ]
  },
  {
   "cell_type": "code",
   "execution_count": null,
   "metadata": {},
   "outputs": [],
   "source": []
  },
  {
   "cell_type": "code",
   "execution_count": null,
   "metadata": {},
   "outputs": [],
   "source": []
  }
 ],
 "metadata": {
  "kernelspec": {
   "display_name": "Python 3",
   "language": "python",
   "name": "python3"
  },
  "language_info": {
   "codemirror_mode": {
    "name": "ipython",
    "version": 3
   },
   "file_extension": ".py",
   "mimetype": "text/x-python",
   "name": "python",
   "nbconvert_exporter": "python",
   "pygments_lexer": "ipython3",
   "version": "3.8.5"
  }
 },
 "nbformat": 4,
 "nbformat_minor": 4
}
