{
 "cells": [
  {
   "cell_type": "code",
   "execution_count": 1,
   "metadata": {},
   "outputs": [],
   "source": [
    "import numpy as np\n",
    "import networkx as nx\n",
    "from operator import itemgetter\n",
    "import import_ipynb\n",
    "#import QuantumLocalSearch as qls"
   ]
  },
  {
   "cell_type": "code",
   "execution_count": null,
   "metadata": {},
   "outputs": [],
   "source": [
    "def compute_mod(G,k):\n",
    "    for i in G.nodes:\n",
    "        sum=0\n",
    "        for j in range(0,k):\n",
    "            sum=sum+pow(2,j)*G.nodes[i][\"Spin{}\".format(k-1-j)]\n",
    "        G.nodes[i][\"colour\"]=sum\n",
    "    \n",
    "    groups = set(nx.get_node_attributes(G,'colour').values())\n",
    "    communities=list()\n",
    "    \n",
    "    for l in groups:\n",
    "        group=set()\n",
    "        for i in G.nodes:\n",
    "            if G.nodes[i][\"colour\"]==l:\n",
    "                group.add(i)\n",
    "        communities.append(group)\n",
    "    \n",
    "    result=nx.algorithms.community.quality.modularity(G, communities)\n",
    "    return result, communities"
   ]
  },
  {
   "cell_type": "code",
   "execution_count": 2,
   "metadata": {},
   "outputs": [],
   "source": [
    "def recursive_QLS(G,k, iter=0):\n",
    "    if len(G)==0:\n",
    "        return 0\n",
    "    result=qls.QLS(G)\n",
    "    solution=result[1]\n",
    "    if -1 in solution:\n",
    "        solution = [0 if x == -1 else 1 if x == 1 else 'Error' for x in solution]\n",
    "        \n",
    "    for i,j in zip(G.nodes, range(0,len(G))):\n",
    "        G.nodes[i][\"Spin{}\".format(iter)]=solution[j]\n",
    "        \n",
    "    subnodes1 = (node\n",
    "                    for node, data\n",
    "                    in G.nodes(data=True)\n",
    "                    if data.get(\"Spin{}\".format(iter)) == 1)\n",
    "        \n",
    "    subnodes2 = (node\n",
    "                    for node, data\n",
    "                    in G.nodes(data=True)\n",
    "                    if data.get(\"Spin{}\".format(iter)) == 0)\n",
    "        \n",
    "    G1 = G.subgraph(subnodes1)\n",
    "    G2 = G.subgraph(subnodes2)\n",
    "    \n",
    "    \n",
    "    iter+=1\n",
    "    if iter>=k:\n",
    "        return 0\n",
    "    \n",
    "    recursive_QLS(G1,k,iter)\n",
    "    recursive_QLS(G2,k,iter)"
   ]
  },
  {
   "cell_type": "code",
   "execution_count": null,
   "metadata": {},
   "outputs": [],
   "source": []
  }
 ],
 "metadata": {
  "kernelspec": {
   "display_name": "Python 3",
   "language": "python",
   "name": "python3"
  },
  "language_info": {
   "codemirror_mode": {
    "name": "ipython",
    "version": 3
   },
   "file_extension": ".py",
   "mimetype": "text/x-python",
   "name": "python",
   "nbconvert_exporter": "python",
   "pygments_lexer": "ipython3",
   "version": "3.8.5"
  }
 },
 "nbformat": 4,
 "nbformat_minor": 4
}
