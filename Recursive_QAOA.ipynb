{
 "cells": [
  {
   "cell_type": "code",
   "execution_count": 1,
   "metadata": {},
   "outputs": [
    {
     "name": "stdout",
     "output_type": "stream",
     "text": [
      "importing Jupyter notebook from QAOA_for_Recursive.ipynb\n"
     ]
    }
   ],
   "source": [
    "import numpy as np\n",
    "import networkx as nx\n",
    "from operator import itemgetter\n",
    "import import_ipynb\n",
    "import QAOA_for_Recursive as qaoa"
   ]
  },
  {
   "cell_type": "code",
   "execution_count": 2,
   "metadata": {},
   "outputs": [],
   "source": [
    "def recursive_QAOA(G,k, iter=0):\n",
    "    if len(G)==0:\n",
    "        return 0\n",
    "    result=qaoa.qaoa_basic(len(G),G)\n",
    "    solution=result.x\n",
    "        \n",
    "    for i,j in zip(G.nodes, range(0,len(G))):\n",
    "        G.nodes[i][\"Spin{}\".format(iter)]=solution[j]\n",
    "        \n",
    "    subnodes1 = (node\n",
    "                    for node, data\n",
    "                    in G.nodes(data=True)\n",
    "                    if data.get(\"Spin{}\".format(iter)) == 1)\n",
    "        \n",
    "    subnodes2 = (node\n",
    "                    for node, data\n",
    "                    in G.nodes(data=True)\n",
    "                    if data.get(\"Spin{}\".format(iter)) == 0)\n",
    "        \n",
    "    G1 = G.subgraph(subnodes1)\n",
    "    G2 = G.subgraph(subnodes2)\n",
    "    \n",
    "    \n",
    "    iter+=1\n",
    "    if iter>=k:\n",
    "        return 0\n",
    "    \n",
    "    recursive_QAOA(G1,k,iter)\n",
    "    recursive_QAOA(G2,k,iter)"
   ]
  },
  {
   "cell_type": "code",
   "execution_count": 3,
   "metadata": {},
   "outputs": [
    {
     "name": "stdout",
     "output_type": "stream",
     "text": [
      "optimal function value: 13.928073979500732\n",
      "optimal value: [0. 0. 0. 0. 0. 0. 0. 0. 1. 1. 1.]\n",
      "status: SUCCESS\n",
      "optimal function value: 0.0\n",
      "optimal value: [0. 0. 0.]\n",
      "status: SUCCESS\n",
      "optimal function value: 5.5\n",
      "optimal value: [1. 1. 1. 1. 0. 0. 0. 0.]\n",
      "status: SUCCESS\n"
     ]
    }
   ],
   "source": [
    "G=nx.barbell_graph(4,0)\n",
    "G.add_nodes_from([9,10,11])\n",
    "E=[(1,9,0.001),(9,10,5),(10,11,5),(9,11,5)]\n",
    "G.add_weighted_edges_from(E)\n",
    "\n",
    "#nx.draw_networkx(G)\n",
    "recursive_QAOA(G,2)"
   ]
  },
  {
   "cell_type": "code",
   "execution_count": 28,
   "metadata": {},
   "outputs": [],
   "source": [
    "def compute_mod(G,k):\n",
    "    for i in G.nodes:\n",
    "        sum=0\n",
    "        for j in range(0,k):\n",
    "            sum=sum+pow(2,j)*G.nodes[i][\"Spin{}\".format(k-1-j)]\n",
    "        G.nodes[i][\"colour\"]=sum\n",
    "    \n",
    "    groups = set(nx.get_node_attributes(G,'colour').values())\n",
    "    communities=list()\n",
    "    \n",
    "    for l in groups:\n",
    "        group=set()\n",
    "        for i in G.nodes:\n",
    "            if G.nodes[i][\"colour\"]==l:\n",
    "                group.add(i)\n",
    "        communities.append(group)\n",
    "    \n",
    "    result=nx.algorithms.community.quality.modularity(G, communities)\n",
    "    return result, communities"
   ]
  },
  {
   "cell_type": "code",
   "execution_count": 29,
   "metadata": {},
   "outputs": [
    {
     "data": {
      "text/plain": [
       "(0.5694816428042364, [{4, 5, 6, 7}, {0, 1, 2, 3}, {9, 10, 11}])"
      ]
     },
     "execution_count": 29,
     "metadata": {},
     "output_type": "execute_result"
    }
   ],
   "source": [
    "compute_mod(G,2)"
   ]
  },
  {
   "cell_type": "code",
   "execution_count": null,
   "metadata": {},
   "outputs": [],
   "source": []
  }
 ],
 "metadata": {
  "kernelspec": {
   "display_name": "Python 3",
   "language": "python",
   "name": "python3"
  },
  "language_info": {
   "codemirror_mode": {
    "name": "ipython",
    "version": 3
   },
   "file_extension": ".py",
   "mimetype": "text/x-python",
   "name": "python",
   "nbconvert_exporter": "python",
   "pygments_lexer": "ipython3",
   "version": "3.8.5"
  }
 },
 "nbformat": 4,
 "nbformat_minor": 4
}
