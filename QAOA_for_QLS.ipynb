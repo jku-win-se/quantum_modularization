{
 "cells": [
  {
   "cell_type": "code",
   "execution_count": 1,
   "metadata": {},
   "outputs": [],
   "source": [
    "%matplotlib inline\n",
    "# useful additional packages \n",
    "\n",
    "#import math tools\n",
    "import numpy as np\n",
    "\n",
    "# We import the tools to handle general Graphs\n",
    "import networkx as nx\n",
    "\n",
    "# We import plotting tools \n",
    "import matplotlib.pyplot as plt \n",
    "from   matplotlib import cm\n",
    "from   matplotlib.ticker import LinearLocator, FormatStrFormatter\n",
    "%config InlineBackend.figure_format = 'svg' # Makes the images look nice\n",
    "\n",
    "from qiskit.optimization import QuadraticProgram\n",
    "from qiskit import BasicAer\n",
    "from qiskit.aqua.algorithms import QAOA, NumPyMinimumEigensolver\n",
    "from qiskit.optimization.algorithms import MinimumEigenOptimizer, RecursiveMinimumEigenOptimizer"
   ]
  },
  {
   "cell_type": "code",
   "execution_count": 2,
   "metadata": {},
   "outputs": [],
   "source": [
    "def qaoa_basic(n,B,C=None, method='simulator'):\n",
    "\n",
    "    # create a QUBO\n",
    "    qubo = QuadraticProgram()\n",
    "    for i in range(0,n):\n",
    "        qubo.binary_var('x{}'.format(i))\n",
    "\n",
    "    qubo.maximize(linear=C, quadratic=B)\n",
    "    #print(qubo.export_as_lp_string())\n",
    "    \n",
    "    qaoa_mes = QAOA(quantum_instance=BasicAer.get_backend('statevector_simulator'))\n",
    "    qaoa = MinimumEigenOptimizer(qaoa_mes)   # using QAOA\n",
    "    qaoa_result = qaoa.solve(qubo)\n",
    "    \n",
    "    return qaoa_result"
   ]
  },
  {
   "cell_type": "code",
   "execution_count": null,
   "metadata": {},
   "outputs": [],
   "source": []
  }
 ],
 "metadata": {
  "kernelspec": {
   "display_name": "Python 3",
   "language": "python",
   "name": "python3"
  },
  "language_info": {
   "codemirror_mode": {
    "name": "ipython",
    "version": 3
   },
   "file_extension": ".py",
   "mimetype": "text/x-python",
   "name": "python",
   "nbconvert_exporter": "python",
   "pygments_lexer": "ipython3",
   "version": "3.8.5"
  }
 },
 "nbformat": 4,
 "nbformat_minor": 4
}
