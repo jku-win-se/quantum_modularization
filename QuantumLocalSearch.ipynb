{
 "cells": [
  {
   "cell_type": "code",
   "execution_count": 1,
   "metadata": {},
   "outputs": [
    {
     "name": "stdout",
     "output_type": "stream",
     "text": [
      "importing Jupyter notebook from QAOA_for_QLS.ipynb\n",
      "importing Jupyter notebook from Side_Calc_QLS.ipynb\n"
     ]
    }
   ],
   "source": [
    "%matplotlib inline\n",
    "\n",
    "import time\n",
    "import numpy as np\n",
    "import progressbar_renamed as progressbar\n",
    "import copy\n",
    "import networkx as nx\n",
    "from operator import itemgetter\n",
    "\n",
    "\n",
    "import import_ipynb\n",
    "import QAOA_for_QLS as qaoa\n",
    "import Side_Calc_QLS as sc"
   ]
  },
  {
   "cell_type": "code",
   "execution_count": 2,
   "metadata": {},
   "outputs": [],
   "source": [
    "def top_gains_populate_subset(G, subset_size, gains):\n",
    "    if G.number_of_nodes() <= subset_size:\n",
    "        return list(G.nodes())\n",
    "    return [\n",
    "        x[0] for x in sorted(gains.items(), key=itemgetter(1))[-subset_size:]\n",
    "    ]"
   ]
  },
  {
   "cell_type": "code",
   "execution_count": 3,
   "metadata": {},
   "outputs": [],
   "source": [
    "def iteration_step(G, B, curr_solution, subset):\n",
    "    \n",
    "    subset2global = dict((x, subset[x]) for x in range(0, len(subset)))\n",
    "    global2subset = dict((subset[x], x) for x in range(0, len(subset)))\n",
    "    \n",
    "    C = [0.0] * len(subset)\n",
    "    for i in subset:\n",
    "        for j in set(G.nodes()) - set(subset):\n",
    "            C[global2subset[i]] += 2 * B[i, j] * curr_solution[j]\n",
    "    indices = np.array(subset)  # rows and columns of B to keep for subset\n",
    "    \n",
    "    result = qaoa.qaoa_basic(len(subset), B[np.ix_(indices, indices)],C)\n",
    "    optimized_subset=result.x\n",
    "    \n",
    "        \n",
    "    if 0 in optimized_subset:\n",
    "        optimized_subset = [\n",
    "            -1 if x == 0 else 1 if x == 1 else 'Error' for x in optimized_subset\n",
    "        ]\n",
    "        \n",
    "    for i in range(0, len(optimized_subset)):\n",
    "        curr_solution[subset2global[i]] = optimized_subset[i]\n",
    "    return curr_solution\n",
    "\n",
    "\n",
    "\n",
    "def QLS(G,size_of_iteration=12,stopping_criteria=3):\n",
    "    B = nx.modularity_matrix(G, nodelist=sorted(G.nodes()), weight='weight')\n",
    "    \n",
    "    # random initial guess\n",
    "    curr_solution = [\n",
    "        1 - 2 * x\n",
    "        for x in list(np.random.randint(2, size=(G.number_of_nodes())))\n",
    "    ]\n",
    "    curr_modularity = sc.compute_modularity(G, B, curr_solution)\n",
    "    \n",
    "    all_time_best_solution = curr_solution\n",
    "    all_time_best_modularity = curr_modularity\n",
    "\n",
    "    visited = set()\n",
    "    it = 0\n",
    "    it_stuck = 0\n",
    "    all_modularities = []\n",
    "    \n",
    "    while set(G.nodes()) - visited:\n",
    "        it += 1\n",
    "        if it_stuck > stopping_criteria: \n",
    "            break\n",
    "        gains_list = []\n",
    "        for v in progressbar.progressbar(G.nodes()):\n",
    "            gains_list.append(sc.compute_gain(G, B, curr_solution, v, True))\n",
    "        gains = {v: gain for gain, v in gains_list} \n",
    "        \n",
    "        subset = top_gains_populate_subset(G, size_of_iteration, gains)\n",
    "        \n",
    "        cand_solution = iteration_step(G, B, copy.deepcopy(curr_solution), list(subset))\n",
    "        cand_modularity = sc.compute_modularity(G, B, cand_solution)\n",
    "        \n",
    "        print('it', it, 'cand_modularity', cand_modularity, 'curr_best',\n",
    "              all_time_best_modularity)\n",
    "        all_modularities.append({\n",
    "            'it': it,\n",
    "            'cand_modularity': cand_modularity,\n",
    "            'curr_best': all_time_best_modularity\n",
    "        })\n",
    "        if cand_modularity > curr_modularity:\n",
    "            curr_solution = cand_solution\n",
    "            curr_modularity = cand_modularity\n",
    "            it_stuck = 0\n",
    "        else:\n",
    "            it_stuck += 1\n",
    "        if curr_modularity > all_time_best_modularity:\n",
    "            all_time_best_solution = curr_solution\n",
    "            all_time_best_modularity = curr_modularity\n",
    "        \n",
    "        #break Bedingung?, vgl.: single_level_refinement\n",
    "    return (all_time_best_modularity, all_time_best_solution, it,\n",
    "            all_modularities)\n",
    "        "
   ]
  },
  {
   "cell_type": "code",
   "execution_count": 4,
   "metadata": {},
   "outputs": [],
   "source": [
    "G=nx.barbell_graph(4,0)"
   ]
  },
  {
   "cell_type": "code",
   "execution_count": 5,
   "metadata": {},
   "outputs": [],
   "source": [
    "#qaoa.qaoa_basic(8,G)"
   ]
  },
  {
   "cell_type": "code",
   "execution_count": 7,
   "metadata": {},
   "outputs": [],
   "source": [
    "G2=nx.barbell_graph(20,0)\n",
    "#QLS(G2)"
   ]
  },
  {
   "cell_type": "code",
   "execution_count": 8,
   "metadata": {},
   "outputs": [
    {
     "name": "stdout",
     "output_type": "stream",
     "text": [
      "[1. 1. 1. 1. 0. 0. 0. 0.]\n"
     ]
    }
   ],
   "source": [
    "#Probe Implementierung qaoa_basic\n",
    "result = qaoa.qaoa_basic(8, nx.modularity_matrix(G))\n",
    "optimized_subset=result.x\n",
    "\n",
    "print(optimized_subset)"
   ]
  },
  {
   "cell_type": "code",
   "execution_count": null,
   "metadata": {},
   "outputs": [],
   "source": []
  }
 ],
 "metadata": {
  "kernelspec": {
   "display_name": "Python 3",
   "language": "python",
   "name": "python3"
  },
  "language_info": {
   "codemirror_mode": {
    "name": "ipython",
    "version": 3
   },
   "file_extension": ".py",
   "mimetype": "text/x-python",
   "name": "python",
   "nbconvert_exporter": "python",
   "pygments_lexer": "ipython3",
   "version": "3.8.5"
  }
 },
 "nbformat": 4,
 "nbformat_minor": 4
}
