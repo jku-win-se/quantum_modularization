{
 "cells": [
  {
   "cell_type": "code",
   "execution_count": 1,
   "metadata": {},
   "outputs": [],
   "source": [
    "#this implementation has been derived from http://bit.ly/QLSCommunity"
   ]
  },
  {
   "cell_type": "code",
   "execution_count": null,
   "metadata": {},
   "outputs": [],
   "source": [
    "import numpy as np\n",
    "import copy\n",
    "import networkx as nx\n",
    "\n",
    "import matplotlib.pyplot as plt \n",
    "from   matplotlib import cm\n",
    "from   matplotlib.ticker import LinearLocator, FormatStrFormatter\n",
    "%config InlineBackend.figure_format = 'svg'"
   ]
  },
  {
   "cell_type": "code",
   "execution_count": 2,
   "metadata": {},
   "outputs": [],
   "source": [
    "def compute_energy(M, bitstring, C=None):\n",
    "    \n",
    "    \n",
    "    if 0 in bitstring:\n",
    "        # assuming bitstring is of zeros and ones\n",
    "        bitstring = [\n",
    "            -1 if x == 0 else 1 if x == 1 else 'Error' for x in bitstring]\n",
    "    \n",
    "    if not isinstance(bitstring, np.ndarray):\n",
    "        bitstring = np.asarray(bitstring)\n",
    "    \n",
    "    if not isinstance(C, np.ndarray) and C is not None:\n",
    "        C = np.asarray(C)\n",
    "        \n",
    "    cost=(bitstring.dot(M)).dot(bitstring.T)\n",
    "    \n",
    "    if C is not None:\n",
    "        cost += C.T.dot(bitstring)\n",
    "        \n",
    "    return float(cost)\n",
    "\n",
    "\n",
    "\n",
    "def compute_gain(M, curr_bitstring, v,return_v=False):\n",
    "    \n",
    "    reassigned = copy.deepcopy(curr_bitstring)\n",
    "    reassigned[v] = (curr_bitstring[v])*(-1)\n",
    "    gain = (\n",
    "        compute_energy(M, reassigned) -\n",
    "        compute_energy(M, curr_bitstring))\n",
    "    \n",
    "    if return_v:\n",
    "        return gain, v\n",
    "    else:\n",
    "        return gain\n"
   ]
  },
  {
   "cell_type": "code",
   "execution_count": null,
   "metadata": {},
   "outputs": [],
   "source": []
  }
 ],
 "metadata": {
  "kernelspec": {
   "display_name": "Python 3",
   "language": "python",
   "name": "python3"
  },
  "language_info": {
   "codemirror_mode": {
    "name": "ipython",
    "version": 3
   },
   "file_extension": ".py",
   "mimetype": "text/x-python",
   "name": "python",
   "nbconvert_exporter": "python",
   "pygments_lexer": "ipython3",
   "version": "3.8.5"
  }
 },
 "nbformat": 4,
 "nbformat_minor": 4
}
